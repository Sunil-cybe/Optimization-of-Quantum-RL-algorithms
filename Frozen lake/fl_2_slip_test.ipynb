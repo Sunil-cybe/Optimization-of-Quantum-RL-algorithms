{
 "cells": [
  {
   "cell_type": "code",
   "execution_count": 1,
   "metadata": {},
   "outputs": [],
   "source": [
    "import gymnasium as gym\n",
    "import pickle\n",
    "from IPython.display import clear_output\n",
    "import matplotlib.pyplot as plt\n",
    "import numpy as np"
   ]
  },
  {
   "cell_type": "code",
   "execution_count": 2,
   "metadata": {},
   "outputs": [],
   "source": [
    "file_path = \"q_tablenew1.pkl\"\n",
    "\n",
    "# Load the q_table from the file\n",
    "with open(file_path, 'rb') as file:\n",
    "    q_table = pickle.load(file)"
   ]
  },
  {
   "cell_type": "code",
   "execution_count": 3,
   "metadata": {},
   "outputs": [],
   "source": [
    "import imageio\n",
    "\n",
    "def saveanimation(frames,address=\"./fl_2_slip_3.gif\"):\n",
    "    \"\"\" \n",
    "    This method ,given the frames of images make the gif and save it in the folder\n",
    "    \n",
    "    params:\n",
    "        frames:method takes in the array or np.array of images\n",
    "        address:(optional)given the address/location saves the gif on that location\n",
    "                otherwise save it to default address './movie.gif'\n",
    "    \n",
    "    return :\n",
    "        none\n",
    "    \"\"\"\n",
    "    imageio.mimwrite(address, frames)"
   ]
  },
  {
   "cell_type": "code",
   "execution_count": 4,
   "metadata": {},
   "outputs": [
    {
     "name": "stdout",
     "output_type": "stream",
     "text": [
      "Number of steps 43\n",
      "Number of steps 42\n",
      "Number of steps 39\n",
      "Number of steps 36\n",
      "Number of steps 5\n",
      "Number of steps 21\n",
      "Number of steps 37\n",
      "Number of steps 21\n",
      "Number of steps 21\n",
      "Number of steps 17\n"
     ]
    }
   ],
   "source": [
    "env_test = gym.make('FrozenLake-v1', is_slippery=True, render_mode = \"rgb_array\")\n",
    "env_test.reset()\n",
    "\n",
    "max_steps = 100\n",
    "frames = []\n",
    "\n",
    "for episode in range(10):\n",
    "    state = env_test.reset()[0]\n",
    "    step = 0\n",
    "    done = False\n",
    "    #print(\"****************************************************\")\n",
    "    #print(\"EPISODE \", episode)\n",
    "\n",
    "    for step in range(max_steps):\n",
    "        #clear_output(wait=True)  # Clear the previous output\n",
    "        frames.append(env_test.render()) # Display the environment as an image\n",
    "        #plt.show()  # Show the image\n",
    "        #print(state)\n",
    "        #env_test.render()\n",
    "        # Take the action (index) that have the maximum expected future reward given that state\n",
    "        action = np.argmax(q_table[state,:])\n",
    "        #print(action)\n",
    "        \n",
    "        new_state, reward, done, _, _ = env_test.step(action)\n",
    "        \n",
    "        if done:\n",
    "            # Here, we decide to only print the last state (to see if our agent is on the goal or fall into an hole)\n",
    "            frames.append(env_test.render())\n",
    "            #clear_output(wait=True)  # Clear the previous output\n",
    "            #plt.imshow(env_test.render(mode='rgb_array'))  # Display the final state as an image\n",
    "            #plt.show()  # Show the image\n",
    "            # We print the number of step it took.\n",
    "            print(\"Number of steps\", step)\n",
    "            break\n",
    "        state = new_state\n",
    "\n",
    "saveanimation(frames)\n",
    "env_test.close()"
   ]
  }
 ],
 "metadata": {
  "kernelspec": {
   "display_name": "base",
   "language": "python",
   "name": "python3"
  },
  "language_info": {
   "codemirror_mode": {
    "name": "ipython",
    "version": 3
   },
   "file_extension": ".py",
   "mimetype": "text/x-python",
   "name": "python",
   "nbconvert_exporter": "python",
   "pygments_lexer": "ipython3",
   "version": "3.8.8"
  },
  "orig_nbformat": 4
 },
 "nbformat": 4,
 "nbformat_minor": 2
}
