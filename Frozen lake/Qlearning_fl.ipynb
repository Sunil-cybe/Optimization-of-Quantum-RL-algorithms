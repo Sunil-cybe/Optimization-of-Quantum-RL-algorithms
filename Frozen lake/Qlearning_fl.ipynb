{
 "cells": [
  {
   "cell_type": "code",
   "execution_count": 13,
   "metadata": {},
   "outputs": [],
   "source": [
    "import numpy as np\n",
    "import qiskit\n",
    "import gym\n",
    "import qiskit.circuit.library as circuits"
   ]
  },
  {
   "cell_type": "code",
   "execution_count": 14,
   "metadata": {},
   "outputs": [],
   "source": [
    "env = gym.make('FrozenLake-v1', is_slippery=False)"
   ]
  },
  {
   "cell_type": "code",
   "execution_count": 15,
   "metadata": {},
   "outputs": [],
   "source": [
    "num_episodes = 1000\n",
    "learning_rate = 0.1\n",
    "discount_factor = 0.99\n",
    "epsilon = 0.1"
   ]
  },
  {
   "cell_type": "code",
   "execution_count": 16,
   "metadata": {},
   "outputs": [],
   "source": [
    "num_qubits = 4  # Adjust this based on your specific VQC design\n",
    "num_actions = 4  # Number of possible actions in the environment"
   ]
  },
  {
   "cell_type": "code",
   "execution_count": 17,
   "metadata": {},
   "outputs": [],
   "source": [
    "num_states = env.observation_space.n\n",
    "q_table = np.zeros((num_states, num_actions))"
   ]
  },
  {
   "cell_type": "code",
   "execution_count": 18,
   "metadata": {},
   "outputs": [],
   "source": [
    "#backend = qiskit.Aer.get_backend('qasm_simulator')\n",
    "backend = qiskit.Aer.get_backend('aer_simulator_statevector')"
   ]
  },
  {
   "cell_type": "code",
   "execution_count": 19,
   "metadata": {},
   "outputs": [],
   "source": [
    "def build_vqc_circuit(state, start):\n",
    "    #qc = qiskit.QuantumCircuit(num_qubits)\n",
    "    # Add variational layers, gates, and measurements as needed\n",
    "    ref = qiskit.QuantumCircuit(4)\n",
    "    for i in range(4):\n",
    "        if start & (1 << i):  # Check if the i-th bit is 1\n",
    "            ref.x(i)\n",
    "    ref.barrier()\n",
    "    qc = circuits.TwoLocal(4, \"rx\", \"cz\", entanglement = \"linear\", reps = 1, insert_barriers = True)\n",
    "    qc = ref.compose(qc)\n",
    "\n",
    "    qc.assign_parameters(state)\n",
    "    qc.measure_all()\n",
    "    return qc"
   ]
  },
  {
   "cell_type": "code",
   "execution_count": 20,
   "metadata": {},
   "outputs": [
    {
     "name": "stdout",
     "output_type": "stream",
     "text": [
      "0\n",
      "<class 'int'>\n"
     ]
    }
   ],
   "source": [
    "state = env.reset()\n",
    "print(state)\n",
    "print(type(state))"
   ]
  },
  {
   "cell_type": "code",
   "execution_count": 21,
   "metadata": {},
   "outputs": [],
   "source": [
    "#from qiskit.circuit.library import TwoLocal"
   ]
  },
  {
   "cell_type": "code",
   "execution_count": 22,
   "metadata": {},
   "outputs": [
    {
     "data": {
      "image/png": "[encoded data removed]",
      "text/plain": [
       "<Figure size 959.679x325.08 with 1 Axes>"
      ]
     },
     "execution_count": 22,
     "metadata": {},
     "output_type": "execute_result"
    }
   ],
   "source": [
    "#qc = circuits.TwoLocal(4, \"rx\", \"cz\", entanglement = \"linear\", reps = 2, insert_barriers = True)\n",
    "\n",
    "#qc.decompose().draw(\"mpl\")\n",
    "initial_params = np.random.rand(num_qubits * 2)\n",
    "\n",
    "qc = build_vqc_circuit(initial_params, 6)\n",
    "\n",
    "qc.decompose().draw(\"mpl\")\n"
   ]
  },
  {
   "cell_type": "code",
   "execution_count": 23,
   "metadata": {},
   "outputs": [],
   "source": [
    "def objective_function(params):\n",
    "    # Build the VQC circuit with updated parameters\n",
    "    quantum_circuit = build_vqc_circuit(params, 0)\n",
    "\n",
    "    # Simulate the circuit to obtain measurement outcomes\n",
    "    transpiled_circuit = qiskit.transpile(quantum_circuit, backend)\n",
    "    qobj = qiskit.assemble(transpiled_circuit, shots = 100)\n",
    "    job = backend.run(qobj)\n",
    "    #result = qiskit.run(transpiled_circuit, backend).result()\n",
    "    result = job.result().get_counts()\n",
    "    counts = np.array(list(result.values()))\n",
    "\n",
    "    # Map measurement outcomes to actions (customize as needed)\n",
    "    action = int(max(counts, key=counts.get))  # Choose the action with the highest count\n",
    "\n",
    "    # Initialize variables\n",
    "    state = env.reset()\n",
    "    total_reward = 0\n",
    "\n",
    "    # Q-learning loop\n",
    "    for _ in range(num_episodes):\n",
    "        if np.random.rand() < epsilon:\n",
    "            action = env.action_space.sample()  # Explore\n",
    "        else:\n",
    "            action = action  # Exploit based on VQC's recommendation\n",
    "\n",
    "        # Take the selected action and observe the next state and reward\n",
    "        next_state, reward, done, _ = env.step(action)\n",
    "\n",
    "        # Update the Q-table using Q-learning update rule\n",
    "        q_table[state, action] = (1 - learning_rate) * q_table[state, action] + \\\n",
    "            learning_rate * (reward + discount_factor * np.max(q_table[next_state, :]))\n",
    "\n",
    "        total_reward += reward\n",
    "        state = next_state\n",
    "\n",
    "        if done:\n",
    "            state = env.reset()  # Reset the environment when an episode is done\n",
    "\n",
    "    return -total_reward"
   ]
  },
  {
   "cell_type": "code",
   "execution_count": 24,
   "metadata": {},
   "outputs": [
    {
     "ename": "QiskitError",
     "evalue": "'Mismatch between run_config.parameter_binds and all circuit parameters. Parameter binds: [] Circuit parameters: [ParameterView([ParameterVectorElement(θ[0]), ParameterVectorElement(θ[1]), ParameterVectorElement(θ[2]), ParameterVectorElement(θ[3]), ParameterVectorElement(θ[4]), ParameterVectorElement(θ[5]), ParameterVectorElement(θ[6]), ParameterVectorElement(θ[7])])]'",
     "output_type": "error",
     "traceback": [
      "\u001b[1;31m---------------------------------------------------------------------------\u001b[0m",
      "\u001b[1;31mQiskitError\u001b[0m                               Traceback (most recent call last)",
      "\u001b[1;32mc:\\Users\\Dell\\Desktop\\VQD\\Frozen lake\\Qlearning_fl.ipynb Cell 12\u001b[0m line \u001b[0;36m<cell line: 9>\u001b[1;34m()\u001b[0m\n\u001b[0;32m      <a href='vscode-notebook-cell:/c%3A/Users/Dell/Desktop/VQD/Frozen%20lake/Qlearning_fl.ipynb#X16sZmlsZQ%3D%3D?line=2'>3</a>\u001b[0m initial_params \u001b[39m=\u001b[39m np\u001b[39m.\u001b[39mrandom\u001b[39m.\u001b[39mrand(num_qubits \u001b[39m*\u001b[39m \u001b[39m2\u001b[39m)\n\u001b[0;32m      <a href='vscode-notebook-cell:/c%3A/Users/Dell/Desktop/VQD/Frozen%20lake/Qlearning_fl.ipynb#X16sZmlsZQ%3D%3D?line=3'>4</a>\u001b[0m \u001b[39m#initial_params = 4\u001b[39;00m\n\u001b[0;32m      <a href='vscode-notebook-cell:/c%3A/Users/Dell/Desktop/VQD/Frozen%20lake/Qlearning_fl.ipynb#X16sZmlsZQ%3D%3D?line=4'>5</a>\u001b[0m \n\u001b[0;32m      <a href='vscode-notebook-cell:/c%3A/Users/Dell/Desktop/VQD/Frozen%20lake/Qlearning_fl.ipynb#X16sZmlsZQ%3D%3D?line=5'>6</a>\u001b[0m \u001b[39m#objective_function(initial_params)\u001b[39;00m\n\u001b[0;32m      <a href='vscode-notebook-cell:/c%3A/Users/Dell/Desktop/VQD/Frozen%20lake/Qlearning_fl.ipynb#X16sZmlsZQ%3D%3D?line=6'>7</a>\u001b[0m \n\u001b[0;32m      <a href='vscode-notebook-cell:/c%3A/Users/Dell/Desktop/VQD/Frozen%20lake/Qlearning_fl.ipynb#X16sZmlsZQ%3D%3D?line=7'>8</a>\u001b[0m \u001b[39m# Use a classical optimizer to find the best parameters\u001b[39;00m\n\u001b[1;32m----> <a href='vscode-notebook-cell:/c%3A/Users/Dell/Desktop/VQD/Frozen%20lake/Qlearning_fl.ipynb#X16sZmlsZQ%3D%3D?line=8'>9</a>\u001b[0m result \u001b[39m=\u001b[39m minimize(objective_function, initial_params, method\u001b[39m=\u001b[39;49m\u001b[39m'\u001b[39;49m\u001b[39mCOBYLA\u001b[39;49m\u001b[39m'\u001b[39;49m)\n\u001b[0;32m     <a href='vscode-notebook-cell:/c%3A/Users/Dell/Desktop/VQD/Frozen%20lake/Qlearning_fl.ipynb#X16sZmlsZQ%3D%3D?line=9'>10</a>\u001b[0m best_params \u001b[39m=\u001b[39m result\u001b[39m.\u001b[39mx\n",
      "File \u001b[1;32md:\\Python\\lib\\site-packages\\scipy\\optimize\\_minimize.py:687\u001b[0m, in \u001b[0;36mminimize\u001b[1;34m(fun, x0, args, method, jac, hess, hessp, bounds, constraints, tol, callback, options)\u001b[0m\n\u001b[0;32m    684\u001b[0m     res \u001b[39m=\u001b[39m _minimize_tnc(fun, x0, args, jac, bounds, callback\u001b[39m=\u001b[39mcallback,\n\u001b[0;32m    685\u001b[0m                         \u001b[39m*\u001b[39m\u001b[39m*\u001b[39moptions)\n\u001b[0;32m    686\u001b[0m \u001b[39melif\u001b[39;00m meth \u001b[39m==\u001b[39m \u001b[39m'\u001b[39m\u001b[39mcobyla\u001b[39m\u001b[39m'\u001b[39m:\n\u001b[1;32m--> 687\u001b[0m     res \u001b[39m=\u001b[39m _minimize_cobyla(fun, x0, args, constraints, callback\u001b[39m=\u001b[39mcallback,\n\u001b[0;32m    688\u001b[0m                             \u001b[39m*\u001b[39m\u001b[39m*\u001b[39moptions)\n\u001b[0;32m    689\u001b[0m \u001b[39melif\u001b[39;00m meth \u001b[39m==\u001b[39m \u001b[39m'\u001b[39m\u001b[39mslsqp\u001b[39m\u001b[39m'\u001b[39m:\n\u001b[0;32m    690\u001b[0m     res \u001b[39m=\u001b[39m _minimize_slsqp(fun, x0, args, jac, bounds,\n\u001b[0;32m    691\u001b[0m                           constraints, callback\u001b[39m=\u001b[39mcallback, \u001b[39m*\u001b[39m\u001b[39m*\u001b[39moptions)\n",
      "File \u001b[1;32md:\\Python\\lib\\site-packages\\scipy\\optimize\\_cobyla_py.py:34\u001b[0m, in \u001b[0;36msynchronized.<locals>.wrapper\u001b[1;34m(*args, **kwargs)\u001b[0m\n\u001b[0;32m     31\u001b[0m \u001b[39m@functools\u001b[39m\u001b[39m.\u001b[39mwraps(func)\n\u001b[0;32m     32\u001b[0m \u001b[39mdef\u001b[39;00m \u001b[39mwrapper\u001b[39m(\u001b[39m*\u001b[39margs, \u001b[39m*\u001b[39m\u001b[39m*\u001b[39mkwargs):\n\u001b[0;32m     33\u001b[0m     \u001b[39mwith\u001b[39;00m _module_lock:\n\u001b[1;32m---> 34\u001b[0m         \u001b[39mreturn\u001b[39;00m func(\u001b[39m*\u001b[39margs, \u001b[39m*\u001b[39m\u001b[39m*\u001b[39mkwargs)\n",
      "File \u001b[1;32md:\\Python\\lib\\site-packages\\scipy\\optimize\\_cobyla_py.py:273\u001b[0m, in \u001b[0;36m_minimize_cobyla\u001b[1;34m(fun, x0, args, constraints, rhobeg, tol, maxiter, disp, catol, callback, **unknown_options)\u001b[0m\n\u001b[0;32m    270\u001b[0m         callback(np\u001b[39m.\u001b[39mcopy(x))\n\u001b[0;32m    272\u001b[0m info \u001b[39m=\u001b[39m np\u001b[39m.\u001b[39mzeros(\u001b[39m4\u001b[39m, np\u001b[39m.\u001b[39mfloat64)\n\u001b[1;32m--> 273\u001b[0m xopt, info \u001b[39m=\u001b[39m cobyla\u001b[39m.\u001b[39;49mminimize(calcfc, m\u001b[39m=\u001b[39;49mm, x\u001b[39m=\u001b[39;49mnp\u001b[39m.\u001b[39;49mcopy(x0), rhobeg\u001b[39m=\u001b[39;49mrhobeg,\n\u001b[0;32m    274\u001b[0m                               rhoend\u001b[39m=\u001b[39;49mrhoend, iprint\u001b[39m=\u001b[39;49miprint, maxfun\u001b[39m=\u001b[39;49mmaxfun,\n\u001b[0;32m    275\u001b[0m                               dinfo\u001b[39m=\u001b[39;49minfo, callback\u001b[39m=\u001b[39;49mwrapped_callback)\n\u001b[0;32m    277\u001b[0m \u001b[39mif\u001b[39;00m info[\u001b[39m3\u001b[39m] \u001b[39m>\u001b[39m catol:\n\u001b[0;32m    278\u001b[0m     \u001b[39m# Check constraint violation\u001b[39;00m\n\u001b[0;32m    279\u001b[0m     info[\u001b[39m0\u001b[39m] \u001b[39m=\u001b[39m \u001b[39m4\u001b[39m\n",
      "File \u001b[1;32md:\\Python\\lib\\site-packages\\scipy\\optimize\\_cobyla_py.py:261\u001b[0m, in \u001b[0;36m_minimize_cobyla.<locals>.calcfc\u001b[1;34m(x, con)\u001b[0m\n\u001b[0;32m    260\u001b[0m \u001b[39mdef\u001b[39;00m \u001b[39mcalcfc\u001b[39m(x, con):\n\u001b[1;32m--> 261\u001b[0m     f \u001b[39m=\u001b[39m fun(np\u001b[39m.\u001b[39;49mcopy(x), \u001b[39m*\u001b[39;49margs)\n\u001b[0;32m    262\u001b[0m     i \u001b[39m=\u001b[39m \u001b[39m0\u001b[39m\n\u001b[0;32m    263\u001b[0m     \u001b[39mfor\u001b[39;00m size, c \u001b[39min\u001b[39;00m izip(cons_lengths, constraints):\n",
      "\u001b[1;32mc:\\Users\\Dell\\Desktop\\VQD\\Frozen lake\\Qlearning_fl.ipynb Cell 12\u001b[0m line \u001b[0;36mobjective_function\u001b[1;34m(params)\u001b[0m\n\u001b[0;32m      <a href='vscode-notebook-cell:/c%3A/Users/Dell/Desktop/VQD/Frozen%20lake/Qlearning_fl.ipynb#X16sZmlsZQ%3D%3D?line=4'>5</a>\u001b[0m \u001b[39m# Simulate the circuit to obtain measurement outcomes\u001b[39;00m\n\u001b[0;32m      <a href='vscode-notebook-cell:/c%3A/Users/Dell/Desktop/VQD/Frozen%20lake/Qlearning_fl.ipynb#X16sZmlsZQ%3D%3D?line=5'>6</a>\u001b[0m transpiled_circuit \u001b[39m=\u001b[39m qiskit\u001b[39m.\u001b[39mtranspile(quantum_circuit, backend)\n\u001b[1;32m----> <a href='vscode-notebook-cell:/c%3A/Users/Dell/Desktop/VQD/Frozen%20lake/Qlearning_fl.ipynb#X16sZmlsZQ%3D%3D?line=6'>7</a>\u001b[0m qobj \u001b[39m=\u001b[39m qiskit\u001b[39m.\u001b[39;49massemble(transpiled_circuit, shots \u001b[39m=\u001b[39;49m \u001b[39m100\u001b[39;49m)\n\u001b[0;32m      <a href='vscode-notebook-cell:/c%3A/Users/Dell/Desktop/VQD/Frozen%20lake/Qlearning_fl.ipynb#X16sZmlsZQ%3D%3D?line=7'>8</a>\u001b[0m job \u001b[39m=\u001b[39m backend\u001b[39m.\u001b[39mrun(qobj)\n\u001b[0;32m      <a href='vscode-notebook-cell:/c%3A/Users/Dell/Desktop/VQD/Frozen%20lake/Qlearning_fl.ipynb#X16sZmlsZQ%3D%3D?line=8'>9</a>\u001b[0m \u001b[39m#result = qiskit.run(transpiled_circuit, backend).result()\u001b[39;00m\n",
      "File \u001b[1;32m~\\AppData\\Roaming\\Python\\Python310\\site-packages\\qiskit\\compiler\\assembler.py:203\u001b[0m, in \u001b[0;36massemble\u001b[1;34m(experiments, backend, qobj_id, qobj_header, shots, memory, max_credits, seed_simulator, qubit_lo_freq, meas_lo_freq, qubit_lo_range, meas_lo_range, schedule_los, meas_level, meas_return, meas_map, memory_slot_size, rep_time, rep_delay, parameter_binds, parametric_pulses, init_qubits, **run_config)\u001b[0m\n\u001b[0;32m    193\u001b[0m run_config \u001b[39m=\u001b[39m _parse_circuit_args(\n\u001b[0;32m    194\u001b[0m     parameter_binds,\n\u001b[0;32m    195\u001b[0m     backend,\n\u001b[1;32m   (...)\u001b[0m\n\u001b[0;32m    199\u001b[0m     \u001b[39m*\u001b[39m\u001b[39m*\u001b[39mrun_config_common_dict,\n\u001b[0;32m    200\u001b[0m )\n\u001b[0;32m    202\u001b[0m \u001b[39m# If circuits are parameterized, bind parameters and remove from run_config\u001b[39;00m\n\u001b[1;32m--> 203\u001b[0m bound_experiments, run_config \u001b[39m=\u001b[39m _expand_parameters(\n\u001b[0;32m    204\u001b[0m     circuits\u001b[39m=\u001b[39;49mexperiments, run_config\u001b[39m=\u001b[39;49mrun_config\n\u001b[0;32m    205\u001b[0m )\n\u001b[0;32m    206\u001b[0m end_time \u001b[39m=\u001b[39m time()\n\u001b[0;32m    207\u001b[0m _log_assembly_time(start_time, end_time)\n",
      "File \u001b[1;32m~\\AppData\\Roaming\\Python\\Python310\\site-packages\\qiskit\\compiler\\assembler.py:596\u001b[0m, in \u001b[0;36m_expand_parameters\u001b[1;34m(circuits, run_config)\u001b[0m\n\u001b[0;32m    589\u001b[0m \u001b[39m# Check that all parameters are common to all circuits and binds\u001b[39;00m\n\u001b[0;32m    590\u001b[0m \u001b[39mif\u001b[39;00m (\n\u001b[0;32m    591\u001b[0m     \u001b[39mnot\u001b[39;00m all_bind_parameters\n\u001b[0;32m    592\u001b[0m     \u001b[39mor\u001b[39;00m \u001b[39mnot\u001b[39;00m all_circuit_parameters\n\u001b[0;32m    593\u001b[0m     \u001b[39mor\u001b[39;00m \u001b[39many\u001b[39m(unique_parameters \u001b[39m!=\u001b[39m bind_params \u001b[39mfor\u001b[39;00m bind_params \u001b[39min\u001b[39;00m all_bind_parameters)\n\u001b[0;32m    594\u001b[0m     \u001b[39mor\u001b[39;00m \u001b[39many\u001b[39m(unique_parameters \u001b[39m!=\u001b[39m parameters \u001b[39mfor\u001b[39;00m parameters \u001b[39min\u001b[39;00m all_circuit_parameters)\n\u001b[0;32m    595\u001b[0m ):\n\u001b[1;32m--> 596\u001b[0m     \u001b[39mraise\u001b[39;00m QiskitError(\n\u001b[0;32m    597\u001b[0m         (\n\u001b[0;32m    598\u001b[0m             \u001b[39m\"\u001b[39m\u001b[39mMismatch between run_config.parameter_binds and all circuit parameters. \u001b[39m\u001b[39m\"\u001b[39m\n\u001b[0;32m    599\u001b[0m             \u001b[39m+\u001b[39m \u001b[39m\"\u001b[39m\u001b[39mParameter binds: \u001b[39m\u001b[39m{}\u001b[39;00m\u001b[39m \u001b[39m\u001b[39m\"\u001b[39m\n\u001b[0;32m    600\u001b[0m             \u001b[39m+\u001b[39m \u001b[39m\"\u001b[39m\u001b[39mCircuit parameters: \u001b[39m\u001b[39m{}\u001b[39;00m\u001b[39m\"\u001b[39m\n\u001b[0;32m    601\u001b[0m         )\u001b[39m.\u001b[39mformat(all_bind_parameters, all_circuit_parameters)\n\u001b[0;32m    602\u001b[0m     )\n\u001b[0;32m    604\u001b[0m circuits \u001b[39m=\u001b[39m [\n\u001b[0;32m    605\u001b[0m     circuit\u001b[39m.\u001b[39mbind_parameters(binds) \u001b[39mfor\u001b[39;00m circuit \u001b[39min\u001b[39;00m circuits \u001b[39mfor\u001b[39;00m binds \u001b[39min\u001b[39;00m parameter_binds\n\u001b[0;32m    606\u001b[0m ]\n\u001b[0;32m    608\u001b[0m \u001b[39m# All parameters have been expanded and bound, so remove from run_config\u001b[39;00m\n",
      "\u001b[1;31mQiskitError\u001b[0m: 'Mismatch between run_config.parameter_binds and all circuit parameters. Parameter binds: [] Circuit parameters: [ParameterView([ParameterVectorElement(θ[0]), ParameterVectorElement(θ[1]), ParameterVectorElement(θ[2]), ParameterVectorElement(θ[3]), ParameterVectorElement(θ[4]), ParameterVectorElement(θ[5]), ParameterVectorElement(θ[6]), ParameterVectorElement(θ[7])])]'"
     ]
    }
   ],
   "source": [
    "from scipy.optimize import minimize\n",
    "\n",
    "initial_params = np.random.rand(num_qubits * 2)\n",
    "#initial_params = 4\n",
    "\n",
    "#objective_function(initial_params)\n",
    "\n",
    "# Use a classical optimizer to find the best parameters\n",
    "result = minimize(objective_function, initial_params, method='COBYLA')\n",
    "best_params = result.x\n",
    "\n",
    "# After optimization, best_params contain the optimized parameter values\n",
    "#print(\"Optimal parameters:\", best_params)"
   ]
  }
 ],
 "metadata": {
  "kernelspec": {
   "display_name": "Python 3",
   "language": "python",
   "name": "python3"
  },
  "language_info": {
   "codemirror_mode": {
    "name": "ipython",
    "version": 3
   },
   "file_extension": ".py",
   "mimetype": "text/x-python",
   "name": "python",
   "nbconvert_exporter": "python",
   "pygments_lexer": "ipython3",
   "version": "3.10.8"
  },
  "orig_nbformat": 4
 },
 "nbformat": 4,
 "nbformat_minor": 2
}
