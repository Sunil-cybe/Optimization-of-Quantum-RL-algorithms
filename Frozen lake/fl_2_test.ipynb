{
 "cells": [
  {
   "cell_type": "code",
   "execution_count": 21,
   "metadata": {},
   "outputs": [],
   "source": [
    "import gymnasium as gym\n",
    "import pickle\n",
    "from IPython.display import clear_output\n",
    "import matplotlib.pyplot as plt\n",
    "import numpy as np"
   ]
  },
  {
   "cell_type": "code",
   "execution_count": 22,
   "metadata": {},
   "outputs": [],
   "source": [
    "file_path = \"q_table.pkl\"\n",
    "\n",
    "# Load the q_table from the file\n",
    "with open(file_path, 'rb') as file:\n",
    "    q_table = pickle.load(file)"
   ]
  },
  {
   "cell_type": "code",
   "execution_count": 23,
   "metadata": {},
   "outputs": [],
   "source": [
    "import imageio\n",
    "\n",
    "def saveanimation(frames,address=\"./fl_8.gif\"):\n",
    "    \"\"\" \n",
    "    This method ,given the frames of images make the gif and save it in the folder\n",
    "    \n",
    "    params:\n",
    "        frames:method takes in the array or np.array of images\n",
    "        address:(optional)given the address/location saves the gif on that location\n",
    "                otherwise save it to default address './movie.gif'\n",
    "    \n",
    "    return :\n",
    "        none\n",
    "    \"\"\"\n",
    "    imageio.mimwrite(address, frames)"
   ]
  },
  {
   "cell_type": "code",
   "execution_count": 24,
   "metadata": {},
   "outputs": [
    {
     "name": "stdout",
     "output_type": "stream",
     "text": [
      "Number of steps 6\n",
      "Reward obtained in Episode 0 : 1.0\n",
      "\n",
      "Number of steps 6\n",
      "Reward obtained in Episode 1 : 1.0\n",
      "\n",
      "Number of steps 6\n",
      "Reward obtained in Episode 2 : 1.0\n",
      "\n",
      "Number of steps 6\n",
      "Reward obtained in Episode 3 : 1.0\n",
      "\n",
      "Number of steps 6\n",
      "Reward obtained in Episode 4 : 1.0\n",
      "\n"
     ]
    }
   ],
   "source": [
    "env_test = gym.make('FrozenLake-v1', is_slippery=False, render_mode = \"rgb_array\")\n",
    "env_test.reset()\n",
    "\n",
    "max_steps = 100\n",
    "frames = []\n",
    "\n",
    "for episode in range(5):\n",
    "    state = env_test.reset()[0]\n",
    "    step = 0\n",
    "    done = False\n",
    "    #print(\"****************************************************\")\n",
    "    #print(\"EPISODE \", episode)\n",
    "    total_reward = 0\n",
    "\n",
    "    while not done:\n",
    "        #clear_output(wait=True)  # Clear the previous output\n",
    "        frames.append(env_test.render()) # Display the environment as an image\n",
    "        #plt.show()  # Show the image\n",
    "        #print(state)\n",
    "        #env_test.render()\n",
    "        # Take the action (index) that have the maximum expected future reward given that state\n",
    "        action = np.argmax(q_table[state,:])\n",
    "        #print(action)\n",
    "        step += 1\n",
    "        new_state, reward, term, trunc, _ = env_test.step(action)\n",
    "        done = term or trunc\n",
    "        total_reward += reward\n",
    "        \n",
    "        if done:\n",
    "            # Here, we decide to only print the last state (to see if our agent is on the goal or fall into an hole)\n",
    "            frames.append(env_test.render())\n",
    "            #clear_output(wait=True)  # Clear the previous output\n",
    "            #plt.imshow(env_test.render(mode='rgb_array'))  # Display the final state as an image\n",
    "            #plt.show()  # Show the image\n",
    "            # We print the number of step it took.\n",
    "           \n",
    "            break\n",
    "        state = new_state\n",
    "    print(\"Number of steps\", step)\n",
    "    print(f\"Reward obtained in Episode {episode} : {total_reward}\")\n",
    "    print(\"\")\n",
    "\n",
    "saveanimation(frames)\n",
    "env_test.close()"
   ]
  }
 ],
 "metadata": {
  "kernelspec": {
   "display_name": "Python 3",
   "language": "python",
   "name": "python3"
  },
  "language_info": {
   "codemirror_mode": {
    "name": "ipython",
    "version": 3
   },
   "file_extension": ".py",
   "mimetype": "text/x-python",
   "name": "python",
   "nbconvert_exporter": "python",
   "pygments_lexer": "ipython3",
   "version": "3.11.4"
  },
  "orig_nbformat": 4
 },
 "nbformat": 4,
 "nbformat_minor": 2
}
